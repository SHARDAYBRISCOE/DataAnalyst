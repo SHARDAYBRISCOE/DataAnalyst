{
 "cells": [
  {
   "cell_type": "code",
   "execution_count": 1,
   "metadata": {},
   "outputs": [
    {
     "data": {
      "text/plain": [
       "2868"
      ]
     },
     "execution_count": 1,
     "metadata": {},
     "output_type": "execute_result"
    }
   ],
   "source": [
    "opened_file = open('Desktop/Covid-19/covid2.csv')\n",
    "\n",
    "from csv import reader\n",
    "read_file = reader(opened_file)\n",
    "covid_data = list(read_file)\n",
    "len(covid_data)"
   ]
  },
  {
   "cell_type": "code",
   "execution_count": 26,
   "metadata": {},
   "outputs": [
    {
     "name": "stdout",
     "output_type": "stream",
     "text": [
      "['date', 'location', 'new_cases', 'new_deaths', 'total_cases', 'total_deaths']\n",
      "['2020-03-17', 'World', '11594', '819', '179112', '7426']\n"
     ]
    }
   ],
   "source": [
    "header_row = covid_data[0]\n",
    "print(header_row)\n",
    "print(covid_data[-1])"
   ]
  },
  {
   "cell_type": "code",
   "execution_count": 3,
   "metadata": {},
   "outputs": [
    {
     "name": "stdout",
     "output_type": "stream",
     "text": [
      "[['2020-02-25', 'Afghanistan', '', '', '1', ''], ['2020-02-26', 'Afghanistan', '0', '', '1', ''], ['2020-02-27', 'Afghanistan', '0', '', '1', ''], ['2020-02-28', 'Afghanistan', '0', '', '1', '']]\n"
     ]
    }
   ],
   "source": [
    "print(covid_data[1:5])"
   ]
  },
  {
   "cell_type": "code",
   "execution_count": 4,
   "metadata": {},
   "outputs": [
    {
     "name": "stdout",
     "output_type": "stream",
     "text": [
      "The number of worldwide cases is 179112\n"
     ]
    }
   ],
   "source": [
    "def worldwide_cases():\n",
    "    total_cases = (covid_data[-1][4])\n",
    "    return (total_cases)\n",
    "#worldwide_cases()\n",
    "\n",
    "print(\"The number of worldwide cases is \" + worldwide_cases())"
   ]
  },
  {
   "cell_type": "code",
   "execution_count": 5,
   "metadata": {},
   "outputs": [
    {
     "name": "stdout",
     "output_type": "stream",
     "text": [
      "The number of worldwide deaths is 7426\n"
     ]
    }
   ],
   "source": [
    "def worldwide_deaths():\n",
    "    deaths = (covid_data[-1][5])\n",
    "    return (deaths)\n",
    "\n",
    "print(\"The number of worldwide deaths is \" + worldwide_deaths())"
   ]
  },
  {
   "cell_type": "code",
   "execution_count": 27,
   "metadata": {},
   "outputs": [
    {
     "name": "stdout",
     "output_type": "stream",
     "text": [
      "The total death percent is 4%\n"
     ]
    }
   ],
   "source": [
    "def total_death_percent():\n",
    "    cases = worldwide_cases()\n",
    "    deaths = worldwide_deaths()\n",
    "    total = int(deaths) / int(cases) * 100\n",
    "    total = round(total)\n",
    "    return str(total)\n",
    "    \n",
    "print(\"The total death percent is \" + total_death_percent() + \"%\")"
   ]
  },
  {
   "cell_type": "code",
   "execution_count": 7,
   "metadata": {},
   "outputs": [
    {
     "name": "stdout",
     "output_type": "stream",
     "text": [
      "The total number of new cases is 11594\n"
     ]
    }
   ],
   "source": [
    "def total_new_cases():\n",
    "    new_cases = (covid_data[-1][2])\n",
    "    return new_cases\n",
    "\n",
    "print(\"The total number of new cases is \" + total_new_cases())"
   ]
  },
  {
   "cell_type": "code",
   "execution_count": 21,
   "metadata": {},
   "outputs": [
    {
     "name": "stdout",
     "output_type": "stream",
     "text": [
      "2020-03-19\n",
      "2020-03-18\n",
      "2020-03-17\n"
     ]
    }
   ],
   "source": [
    "#FINDING THE CURRENT DATE\n",
    "import datetime\n",
    "from datetime import timedelta\n",
    "today = datetime.datetime.now() #today's date\n",
    "yesterday = datetime.timedelta(days=1) \n",
    "two_days = datetime.timedelta(days=2) \n",
    "yesterdays_date = today - yesterday #yesterday's date\n",
    "two_days_ago = today - two_days #date from two days ago\n",
    "\n",
    "todays_date_string = today.strftime(\"%Y-%m-%d\")\n",
    "yesterdays_date_string = yesterdays_date.strftime(\"%Y-%m-%d\")\n",
    "two_days_string = two_days_ago.strftime(\"%Y-%m-%d\")\n",
    "print(todays_date_string)\n",
    "print(yesterdays_date_string)\n",
    "print(two_days_string)\n"
   ]
  },
  {
   "cell_type": "code",
   "execution_count": 28,
   "metadata": {},
   "outputs": [
    {
     "name": "stdout",
     "output_type": "stream",
     "text": [
      "Albania's COVID-19 data 2020-03-17\n",
      "The number of new cases is 9\n",
      "The number of new deaths is 0\n",
      "The number of total cases 51\n",
      "The number of total deaths 1\n"
     ]
    }
   ],
   "source": [
    "def search_country(name):\n",
    "    for row in covid_data:\n",
    "        if row[0] == todays_date_string and str(row[1]) == name: \n",
    "            print(row[1]+\" 's COVID-19 data \" + todays_date_string) #name of country\n",
    "            print(\"The number of new cases is \" + row[2]) #new cases\n",
    "            print(\"The number of new deaths is \" + row[3]) #new deaths\n",
    "            print(\"The number of total cases \" + row[4]) #total cases\n",
    "            print(\"The number of total deaths \" + row[5]) #total deaths\n",
    "        elif row[0] == yesterdays_date_string and str(row[1]) == name:\n",
    "            print(row[1]+\"'s COVID-19 data \" + yesterdays_date_string) #name of country\n",
    "            print(\"The number of new cases is \" + row[2]) #new cases\n",
    "            print(\"The number of new deaths is \" + row[3]) #new deaths\n",
    "            print(\"The number of total cases \" + row[4]) #total cases\n",
    "            print(\"The number of total deaths \" + row[5]) #total deaths\n",
    "        elif row[0] == two_days_string and str(row[1]) == name:\n",
    "            print(row[1]+\"'s COVID-19 data \" + two_days_string) #name of country\n",
    "            print(\"The number of new cases is \" + row[2]) #new cases\n",
    "            print(\"The number of new deaths is \" + row[3]) #new deaths\n",
    "            print(\"The number of total cases \" + row[4]) #total cases\n",
    "            print(\"The number of total deaths \" + row[5]) #total deaths\n",
    "\n",
    "search_country(\"Albania\")\n",
    "\n",
    "#if the number is zero, there is no number printed. Change for empty cases."
   ]
  },
  {
   "cell_type": "code",
   "execution_count": 29,
   "metadata": {},
   "outputs": [
    {
     "name": "stdout",
     "output_type": "stream",
     "text": [
      "Mexico\n",
      "Mexico's COVID-19 data 2020-03-17\n",
      "The number of new cases is 0\n",
      "The number of new deaths is \n",
      "The number of total cases 53\n",
      "The number of total deaths \n"
     ]
    }
   ],
   "source": [
    "search_country(input())"
   ]
  },
  {
   "cell_type": "code",
   "execution_count": null,
   "metadata": {},
   "outputs": [],
   "source": []
  }
 ],
 "metadata": {
  "kernelspec": {
   "display_name": "Python 3",
   "language": "python",
   "name": "python3"
  },
  "language_info": {
   "codemirror_mode": {
    "name": "ipython",
    "version": 3
   },
   "file_extension": ".py",
   "mimetype": "text/x-python",
   "name": "python",
   "nbconvert_exporter": "python",
   "pygments_lexer": "ipython3",
   "version": "3.7.4"
  }
 },
 "nbformat": 4,
 "nbformat_minor": 2
}
