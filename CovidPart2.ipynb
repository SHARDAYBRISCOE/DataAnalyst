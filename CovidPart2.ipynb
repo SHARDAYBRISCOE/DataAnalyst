{
 "cells": [
  {
   "cell_type": "code",
   "execution_count": 9,
   "metadata": {},
   "outputs": [
    {
     "data": {
      "text/plain": [
       "2707"
      ]
     },
     "execution_count": 9,
     "metadata": {},
     "output_type": "execute_result"
    }
   ],
   "source": [
    "opened_file = open('Desktop/Covid-19/covid.csv')\n",
    "\n",
    "from csv import reader\n",
    "read_file = reader(opened_file)\n",
    "covid_data = list(read_file)\n",
    "len(covid_data)"
   ]
  },
  {
   "cell_type": "code",
   "execution_count": 12,
   "metadata": {},
   "outputs": [
    {
     "name": "stdout",
     "output_type": "stream",
     "text": [
      "['date', 'location', 'new_cases', 'new_deaths', 'total_cases', 'total_deaths']\n"
     ]
    }
   ],
   "source": [
    "header_row = covid_data[0]\n",
    "print(header_row)"
   ]
  },
  {
   "cell_type": "code",
   "execution_count": 16,
   "metadata": {},
   "outputs": [
    {
     "name": "stdout",
     "output_type": "stream",
     "text": [
      "[['2020-02-25', 'Afghanistan', '', '', '1', ''], ['2020-02-26', 'Afghanistan', '0', '', '1', ''], ['2020-02-27', 'Afghanistan', '0', '', '1', ''], ['2020-02-28', 'Afghanistan', '0', '', '1', '']]\n"
     ]
    }
   ],
   "source": [
    "print(covid_data[1:5])"
   ]
  },
  {
   "cell_type": "code",
   "execution_count": 57,
   "metadata": {},
   "outputs": [
    {
     "name": "stdout",
     "output_type": "stream",
     "text": [
      "The number of worldwide cases is 167502\n"
     ]
    }
   ],
   "source": [
    "def worldwide_cases():\n",
    "    total_cases = (covid_data[-1][4])\n",
    "    return (total_cases)\n",
    "#worldwide_cases()\n",
    "\n",
    "print(\"The number of worldwide cases is \" + worldwide_cases())"
   ]
  },
  {
   "cell_type": "code",
   "execution_count": 52,
   "metadata": {},
   "outputs": [
    {
     "name": "stdout",
     "output_type": "stream",
     "text": [
      "The number of worldwide deaths is 6603\n"
     ]
    }
   ],
   "source": [
    "def worldwide_deaths():\n",
    "    deaths = (covid_data[-1][5])\n",
    "    return (deaths)\n",
    "\n",
    "print(\"The number of worldwide deaths is \" + worldwide_deaths())"
   ]
  },
  {
   "cell_type": "code",
   "execution_count": 59,
   "metadata": {},
   "outputs": [
    {
     "name": "stdout",
     "output_type": "stream",
     "text": [
      "The total death percent is 4%\n"
     ]
    }
   ],
   "source": [
    "def total_death_percent():\n",
    "    cases = worldwide_cases()\n",
    "    deaths = worldwide_deaths()\n",
    "    total = int(deaths) / int(cases) * 100\n",
    "    total = round(total)\n",
    "    return str(total)\n",
    "    \n",
    "print(\"The total death percent is \" + total_death_percent() + \"%\")"
   ]
  },
  {
   "cell_type": "code",
   "execution_count": 62,
   "metadata": {},
   "outputs": [
    {
     "name": "stdout",
     "output_type": "stream",
     "text": [
      "The total number of new cases is 13968\n"
     ]
    }
   ],
   "source": [
    "def total_new_cases():\n",
    "    new_cases = (covid_data[-1][2])\n",
    "    return new_cases\n",
    "\n",
    "print(\"The total number of new cases is \" + total_new_cases())"
   ]
  },
  {
   "cell_type": "code",
   "execution_count": 77,
   "metadata": {},
   "outputs": [
    {
     "name": "stdout",
     "output_type": "stream",
     "text": [
      "Albania\n",
      "The number of new cases is 4\n",
      "The number of new deaths is 0\n",
      "The number of total cases 42\n",
      "The number of total deaths 1\n",
      "Mexico\n",
      "The number of new cases is 12\n",
      "The number of new deaths is \n",
      "The number of total cases 53\n",
      "The number of total deaths \n"
     ]
    }
   ],
   "source": [
    "def search_country(name):\n",
    "    for row in covid_data:\n",
    "        if row[0] == '2020-03-16' and str(row[1]) == name: #if statement checks for Mar 16 data. Change to current date\n",
    "            print(row[1]) #name of country\n",
    "            print(\"The number of new cases is \" + row[2]) #new cases\n",
    "            print(\"The number of new deaths is \" + row[3]) #new deaths\n",
    "            print(\"The number of total cases \" + row[4]) #total cases\n",
    "            print(\"The number of total deaths \" + row[5]) #total deaths\n",
    "\n",
    "search_country(\"Albania\")\n",
    "\n",
    "search_country(\"Mexico\")\n",
    "#if the number is zero, there is no number printed. Change for empty cases."
   ]
  }
 ],
 "metadata": {
  "kernelspec": {
   "display_name": "Python 3",
   "language": "python",
   "name": "python3"
  },
  "language_info": {
   "codemirror_mode": {
    "name": "ipython",
    "version": 3
   },
   "file_extension": ".py",
   "mimetype": "text/x-python",
   "name": "python",
   "nbconvert_exporter": "python",
   "pygments_lexer": "ipython3",
   "version": "3.7.4"
  }
 },
 "nbformat": 4,
 "nbformat_minor": 2
}
